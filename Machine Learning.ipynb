{
 "cells": [
  {
   "cell_type": "markdown",
   "metadata": {},
   "source": [
    "# Machine Learning"
   ]
  },
  {
   "cell_type": "code",
   "execution_count": 1,
   "metadata": {},
   "outputs": [],
   "source": [
    "import pandas as pd\n",
    "import numpy as np\n",
    "import plotly.graph_objects as go\n",
    "from sklearn.model_selection import train_test_split\n",
    "from sklearn.metrics import classification_report\n",
    "from sklearn.metrics import accuracy_score\n",
    "from sklearn.ensemble import RandomForestClassifier\n",
    "from sklearn.svm import LinearSVC\n",
    "from sklearn.ensemble import GradientBoostingClassifier\n",
    "import os\n",
    "from sklearn.linear_model import LogisticRegression\n",
    "from xgboost import XGBClassifier"
   ]
  },
  {
   "cell_type": "code",
   "execution_count": 2,
   "metadata": {
    "scrolled": true
   },
   "outputs": [],
   "source": [
    "df_train=pd.read_csv(\"./../data/application_train.csv\",encoding=\"utf-8\",index_col=0)\n",
    "df_test=pd.read_csv(\"./../data/application_test.csv\",encoding=\"utf-8\",index_col=0)\n",
    "df = pd.concat([df_train,df_test])"
   ]
  },
  {
   "cell_type": "code",
   "execution_count": 3,
   "metadata": {},
   "outputs": [
    {
     "data": {
      "text/plain": [
       "'ratio: 8602 / 356255 = 2.41 %'"
      ]
     },
     "execution_count": 3,
     "metadata": {},
     "output_type": "execute_result"
    }
   ],
   "source": [
    "# comparaison entre df et df sans les nan\n",
    "\n",
    "df_salvage_drop=df.dropna()\n",
    "' '.join(['ratio:' , str(df_salvage_drop.shape[0]) ,'/' , str(df.shape[0]), '=' , str(round(df_salvage_drop.shape[0]/df.shape[0]*100,2)), '%'])"
   ]
  },
  {
   "cell_type": "code",
   "execution_count": 4,
   "metadata": {},
   "outputs": [
    {
     "data": {
      "text/plain": [
       "{'TARGET': 0.06114857009997675,\n",
       " 'NAME_CONTRACT_TYPE': nan,\n",
       " 'CODE_GENDER': nan,\n",
       " 'FLAG_OWN_CAR': nan,\n",
       " 'FLAG_OWN_REALTY': nan,\n",
       " 'CNT_CHILDREN': 0.6025342943501512,\n",
       " 'AMT_INCOME_TOTAL': 222872.41443850266,\n",
       " 'AMT_CREDIT': 699998.7016391536,\n",
       " 'AMT_ANNUITY': 31558.948325970705,\n",
       " 'AMT_GOODS_PRICE': 633833.7415717276,\n",
       " 'NAME_TYPE_SUITE': nan,\n",
       " 'NAME_INCOME_TYPE': nan,\n",
       " 'NAME_EDUCATION_TYPE': nan,\n",
       " 'NAME_FAMILY_STATUS': nan,\n",
       " 'NAME_HOUSING_TYPE': nan,\n",
       " 'REGION_POPULATION_RELATIVE': 0.023542625668449196,\n",
       " 'DAYS_BIRTH': -14189.009416414787,\n",
       " 'DAYS_EMPLOYED': -2299.091374099047,\n",
       " 'DAYS_REGISTRATION': -4276.979190885841,\n",
       " 'DAYS_ID_PUBLISH': -2975.926296210184,\n",
       " 'OWN_CAR_AGE': 11.224133922343642,\n",
       " 'FLAG_MOBIL': 1.0,\n",
       " 'FLAG_EMP_PHONE': 0.9997674959311788,\n",
       " 'FLAG_WORK_PHONE': 0.21111369448965356,\n",
       " 'FLAG_CONT_MOBILE': 0.9968611950709138,\n",
       " 'FLAG_PHONE': 0.3093466635666124,\n",
       " 'FLAG_EMAIL': 0.12566844919786097,\n",
       " 'OCCUPATION_TYPE': nan,\n",
       " 'CNT_FAM_MEMBERS': 2.401418274819809,\n",
       " 'REGION_RATING_CLIENT': 2.0048825854452454,\n",
       " 'REGION_RATING_CLIENT_W_CITY': 1.9480353406184607,\n",
       " 'WEEKDAY_APPR_PROCESS_START': nan,\n",
       " 'HOUR_APPR_PROCESS_START': 12.203324808184144,\n",
       " 'REG_REGION_NOT_LIVE_REGION': 0.013717740060451058,\n",
       " 'REG_REGION_NOT_WORK_REGION': 0.05963729365263892,\n",
       " 'LIVE_REGION_NOT_WORK_REGION': 0.052429667519181586,\n",
       " 'REG_CITY_NOT_LIVE_CITY': 0.0372006510113927,\n",
       " 'REG_CITY_NOT_WORK_CITY': 0.1482213438735178,\n",
       " 'LIVE_CITY_NOT_WORK_CITY': 0.13357358753778192,\n",
       " 'ORGANIZATION_TYPE': nan,\n",
       " 'EXT_SOURCE_1': 0.49598868293576287,\n",
       " 'EXT_SOURCE_2': 0.5528328861630395,\n",
       " 'EXT_SOURCE_3': 0.49580291768738227,\n",
       " 'APARTMENTS_AVG': 0.1293115787026273,\n",
       " 'BASEMENTAREA_AVG': 0.09209819809346663,\n",
       " 'YEARS_BEGINEXPLUATATION_AVG': 0.9826107533131829,\n",
       " 'YEARS_BUILD_AVG': 0.7653135549872122,\n",
       " 'COMMONAREA_AVG': 0.04722638921181121,\n",
       " 'ELEVATORS_AVG': 0.08777023947919088,\n",
       " 'ENTRANCES_AVG': 0.15538713089979075,\n",
       " 'FLOORSMAX_AVG': 0.24917583120204603,\n",
       " 'FLOORSMIN_AVG': 0.24273310857940017,\n",
       " 'LANDAREA_AVG': 0.06865731225296443,\n",
       " 'LIVINGAPARTMENTS_AVG': 0.10485222041385725,\n",
       " 'LIVINGAREA_AVG': 0.12186063706114858,\n",
       " 'NONLIVINGAPARTMENTS_AVG': 0.009237851662404093,\n",
       " 'NONLIVINGAREA_AVG': 0.026453545687049527,\n",
       " 'APARTMENTS_MODE': 0.1246346547314578,\n",
       " 'BASEMENTAREA_MODE': 0.08999890723087653,\n",
       " 'YEARS_BEGINEXPLUATATION_MODE': 0.9819485119739594,\n",
       " 'YEARS_BUILD_MODE': 0.7718928272494768,\n",
       " 'COMMONAREA_MODE': 0.044887456405487094,\n",
       " 'ELEVATORS_MODE': 0.08206162520344105,\n",
       " 'ENTRANCES_MODE': 0.149767949314113,\n",
       " 'FLOORSMAX_MODE': 0.24402009997674964,\n",
       " 'FLOORSMIN_MODE': 0.23823471285747502,\n",
       " 'LANDAREA_MODE': 0.06678871192745872,\n",
       " 'LIVINGAPARTMENTS_MODE': 0.10936240409207161,\n",
       " 'LIVINGAREA_MODE': 0.11872605208091142,\n",
       " 'NONLIVINGAPARTMENTS_MODE': 0.00822490118577075,\n",
       " 'NONLIVINGAREA_MODE': 0.02372012322715648,\n",
       " 'APARTMENTS_MEDI': 0.12953923506161358,\n",
       " 'BASEMENTAREA_MEDI': 0.0912545570797489,\n",
       " 'YEARS_BEGINEXPLUATATION_MEDI': 0.9827495582422692,\n",
       " 'YEARS_BUILD_MEDI': 0.768583213206231,\n",
       " 'COMMONAREA_MEDI': 0.04722226226458963,\n",
       " 'ELEVATORS_MEDI': 0.08661474075796327,\n",
       " 'ENTRANCES_MEDI': 0.15466979772146014,\n",
       " 'FLOORSMAX_MEDI': 0.2488514415252267,\n",
       " 'FLOORSMIN_MEDI': 0.24239078121367125,\n",
       " 'LANDAREA_MEDI': 0.06946113694489654,\n",
       " 'LIVINGAPARTMENTS_MEDI': 0.10595813764240873,\n",
       " 'LIVINGAREA_MEDI': 0.12321779818646826,\n",
       " 'NONLIVINGAPARTMENTS_MEDI': 0.008916624040920716,\n",
       " 'NONLIVINGAREA_MEDI': 0.02602297140199954,\n",
       " 'FONDKAPREMONT_MODE': nan,\n",
       " 'HOUSETYPE_MODE': nan,\n",
       " 'TOTALAREA_MODE': 0.11924478028365497,\n",
       " 'WALLSMATERIAL_MODE': nan,\n",
       " 'EMERGENCYSTATE_MODE': nan,\n",
       " 'OBS_30_CNT_SOCIAL_CIRCLE': 1.368518949081609,\n",
       " 'DEF_30_CNT_SOCIAL_CIRCLE': 0.1272959776796094,\n",
       " 'OBS_60_CNT_SOCIAL_CIRCLE': 1.3523599162985351,\n",
       " 'DEF_60_CNT_SOCIAL_CIRCLE': 0.08765403394559405,\n",
       " 'DAYS_LAST_PHONE_CHANGE': -1108.502208788654,\n",
       " 'FLAG_DOCUMENT_2': 0.0,\n",
       " 'FLAG_DOCUMENT_3': 0.6535689374564055,\n",
       " 'FLAG_DOCUMENT_4': 0.0,\n",
       " 'FLAG_DOCUMENT_5': 0.013485235991629853,\n",
       " 'FLAG_DOCUMENT_6': 0.0046500813764240876,\n",
       " 'FLAG_DOCUMENT_7': 0.00034875610323180655,\n",
       " 'FLAG_DOCUMENT_8': 0.20413857242501743,\n",
       " 'FLAG_DOCUMENT_9': 0.0046500813764240876,\n",
       " 'FLAG_DOCUMENT_10': 0.00011625203441060219,\n",
       " 'FLAG_DOCUMENT_11': 0.007091374099046734,\n",
       " 'FLAG_DOCUMENT_12': 0.00011625203441060219,\n",
       " 'FLAG_DOCUMENT_13': 0.014764008370146478,\n",
       " 'FLAG_DOCUMENT_14': 0.004998837479655894,\n",
       " 'FLAG_DOCUMENT_15': 0.004301325273192281,\n",
       " 'FLAG_DOCUMENT_16': 0.010346431062543595,\n",
       " 'FLAG_DOCUMENT_17': 0.00023250406882120437,\n",
       " 'FLAG_DOCUMENT_18': 0.009997674959311788,\n",
       " 'FLAG_DOCUMENT_19': 0.0005812601720530109,\n",
       " 'FLAG_DOCUMENT_20': 0.0010462683096954196,\n",
       " 'FLAG_DOCUMENT_21': 0.00023250406882120437,\n",
       " 'AMT_REQ_CREDIT_BUREAU_HOUR': 0.005812601720530109,\n",
       " 'AMT_REQ_CREDIT_BUREAU_DAY': 0.005928853754940711,\n",
       " 'AMT_REQ_CREDIT_BUREAU_WEEK': 0.03906068356196234,\n",
       " 'AMT_REQ_CREDIT_BUREAU_MON': 0.3689839572192513,\n",
       " 'AMT_REQ_CREDIT_BUREAU_QRT': 0.25807951639153687,\n",
       " 'AMT_REQ_CREDIT_BUREAU_YEAR': 1.7576145082538945}"
      ]
     },
     "execution_count": 4,
     "metadata": {},
     "output_type": "execute_result"
    }
   ],
   "source": [
    "# liste les valeurs par default de chaque clmn\n",
    "\n",
    "def one_line_try(serie):\n",
    "    try:\n",
    "        return float(serie.mean())\n",
    "    except:\n",
    "        return float(np.nan)\n",
    "    \n",
    "default_value_per_clmn = {clmn : one_line_try(df_salvage_drop[clmn]) for clmn in df_salvage_drop}\n",
    "\n",
    "default_value_per_clmn"
   ]
  },
  {
   "cell_type": "code",
   "execution_count": null,
   "metadata": {
    "scrolled": true
   },
   "outputs": [],
   "source": [
    "# applique ces valeur aux clmn\n",
    "\n",
    "for clmn in df:\n",
    "    df[clmn]= [A if str(A) != 'nan' else default_value_per_clmn[clmn] for A in df[clmn]]\n",
    "df_cute_drop = df.dropna()\n",
    "' '.join(['ratio:' , str(df_cute_drop.shape[0]) ,'/' , str(df.shape[0]), '=' ,str(round(df_cute_drop.shape[0]/df.shape[0]*100,2)), '%'])\n",
    "\n"
   ]
  },
  {
   "cell_type": "code",
   "execution_count": null,
   "metadata": {},
   "outputs": [],
   "source": [
    "del df_cute_drop\n",
    "del df_salvage_drop\n",
    "df = df.dropna()"
   ]
  },
  {
   "cell_type": "code",
   "execution_count": null,
   "metadata": {},
   "outputs": [],
   "source": [
    "df_true = df[df['TARGET'] == 1]\n",
    "df_false = df[df['TARGET'] != 1]\n",
    "maxi_val = min([df_false.shape[0], df_true.shape[0]])\n",
    "print(' '.join(['loss: ',str(100 - round(2*maxi_val/df.shape[0]*100,2)), '%']))\n",
    "df = pd.concat([df_false.iloc[:maxi_val],df_true.iloc[:maxi_val]])"
   ]
  },
  {
   "cell_type": "code",
   "execution_count": null,
   "metadata": {},
   "outputs": [],
   "source": [
    "colonnes=[colonne for colonne in df]\n",
    "types_colonnes=list(map(lambda x : {x : list(set(df[x].map(lambda x : str(type(x)))))} , colonnes))"
   ]
  },
  {
   "cell_type": "code",
   "execution_count": null,
   "metadata": {},
   "outputs": [],
   "source": [
    "colonnes_str=list(filter(lambda x : x[list(x)[0]]==[\"<class 'str'>\"], types_colonnes))"
   ]
  },
  {
   "cell_type": "code",
   "execution_count": null,
   "metadata": {},
   "outputs": [],
   "source": [
    "def vectorisation(col):\n",
    "    voc=list(set(list(col)))\n",
    "    val={voc[i]:i for i in range(len(voc))}\n",
    "    return col.map(lambda x : val[x])\n",
    "\n",
    "\n",
    "\n",
    "for i in [list(i)[0] for i in colonnes_str]:\n",
    "    df[i]=vectorisation(df[i])"
   ]
  },
  {
   "cell_type": "code",
   "execution_count": null,
   "metadata": {
    "scrolled": true
   },
   "outputs": [],
   "source": [
    "df"
   ]
  },
  {
   "cell_type": "code",
   "execution_count": null,
   "metadata": {},
   "outputs": [],
   "source": [
    "# matrice de correlation\n",
    "\n",
    "total_corr = df.corr()\n",
    "total_corr"
   ]
  },
  {
   "cell_type": "code",
   "execution_count": null,
   "metadata": {},
   "outputs": [],
   "source": [
    "# liste les meuilleurs correlations entre les clmns\n",
    "\n",
    "def get_coor(mat, corr = .75):\n",
    "    clmn_lst = mat.columns\n",
    "    exeption = [] \n",
    "    val = 0\n",
    "    for clmn in mat:\n",
    "        cmd = lambda idx, val: [print(\"{} -> {} : \".format(clmn, clmn_lst[idx]).ljust(80, ' ') + str(val)),  exeption.append(val)]\n",
    "        [cmd(idx, val) for idx, val in enumerate(mat[clmn]) if val > corr and val != 1 and val not in exeption]\n",
    "\n",
    "        \n",
    "\n",
    "get_coor(total_corr, .99)"
   ]
  },
  {
   "cell_type": "code",
   "execution_count": null,
   "metadata": {},
   "outputs": [],
   "source": [
    "# liste les meuilleurs corelations par rapport a une clmn\n",
    "\n",
    "def get_clmn_corr(mat, clmn, corr = 0.1):\n",
    "    serie = mat[clmn]\n",
    "    clmn_lst = list(serie.keys())\n",
    "    cmd = lambda idx, val: print(\"{} -> {} : \".format(clmn, clmn_lst[idx]).ljust(80, ' ') + str(val))\n",
    "    [cmd(idx, val) for idx, val in enumerate(mat[clmn]) if abs(val) > corr and val != 1]\n",
    "    \n",
    "get_clmn_corr(total_corr, 'TARGET', 0.05)"
   ]
  },
  {
   "cell_type": "code",
   "execution_count": null,
   "metadata": {},
   "outputs": [],
   "source": [
    "#set(df_train['FONDKAPREMONT_MODE'].fillna(\"\").map(type))"
   ]
  },
  {
   "cell_type": "code",
   "execution_count": null,
   "metadata": {},
   "outputs": [],
   "source": [
    "#sorted(list(df.corr()['TARGET']))"
   ]
  },
  {
   "cell_type": "code",
   "execution_count": null,
   "metadata": {},
   "outputs": [],
   "source": [
    "from machinelearning import prediction\n",
    "\n",
    "\n",
    "file=open(\"machinelearning.py\",\"r\",encoding=\"utf-8\")\n",
    "#print(file.read())\n",
    "file.close()\n",
    "del file"
   ]
  },
  {
   "cell_type": "code",
   "execution_count": null,
   "metadata": {},
   "outputs": [],
   "source": [
    "# harmonise les types\n",
    "df = df.applymap(float)\n",
    "df['TARGET'] = df['TARGET'].apply(int)"
   ]
  },
  {
   "cell_type": "code",
   "execution_count": null,
   "metadata": {
    "scrolled": true
   },
   "outputs": [],
   "source": [
    "prediction(df,models=[{\"modèle\":LinearSVC,\"paramètres\":{\"random_state\":44}},\n",
    "                       {\"modèle\":RandomForestClassifier,\"paramètres\":{\"n_estimators\":750,\"random_state\":44}},\n",
    "                       {\"modèle\":GradientBoostingClassifier,\"paramètres\":{\"random_state\":44}},\n",
    "                       {\"modèle\":LogisticRegression,\"paramètres\":{\"random_state\":44}}\n",
    "                     ])"
   ]
  },
  {
   "cell_type": "code",
   "execution_count": null,
   "metadata": {
    "scrolled": true
   },
   "outputs": [],
   "source": [
    "100 - (df['TARGET'].sum()/df.shape[0])*100"
   ]
  },
  {
   "cell_type": "code",
   "execution_count": null,
   "metadata": {},
   "outputs": [],
   "source": [
    "df['TARGET'].value_counts(dropna=False)"
   ]
  },
  {
   "cell_type": "code",
   "execution_count": null,
   "metadata": {},
   "outputs": [],
   "source": [
    "from xgboost import XGBClassifier\n",
    "model = XGBClassifier()\n",
    "\n",
    "'''\n",
    "xg_reg = xgb.XGBRegressor(objective ='reg:logistic', colsample_bytree = 0.3, learning_rate = 0.1,\n",
    "                max_depth = 5, alpha = 10, n_estimators = 10)\n",
    "                '''\n",
    "#xg_reg.fit(X_train,y_train)\n",
    "model.fit(X_train,y_train)\n",
    "print(model)\n",
    "#preds = xg_reg.predict(X_test)\n",
    "preds = model.predict(X_test)\n",
    "rmse = np.sqrt(mean_squared_error(y_test, preds))\n",
    "print(\"RMSE: %f\" % (rmse))\n",
    "import xgboost as xgb"
   ]
  },
  {
   "cell_type": "code",
   "execution_count": null,
   "metadata": {},
   "outputs": [],
   "source": []
  },
  {
   "cell_type": "code",
   "execution_count": null,
   "metadata": {},
   "outputs": [],
   "source": []
  }
 ],
 "metadata": {
  "kernelspec": {
   "display_name": "Python 3",
   "language": "python",
   "name": "python3"
  },
  "language_info": {
   "codemirror_mode": {
    "name": "ipython",
    "version": 3
   },
   "file_extension": ".py",
   "mimetype": "text/x-python",
   "name": "python",
   "nbconvert_exporter": "python",
   "pygments_lexer": "ipython3",
   "version": "3.7.9"
  }
 },
 "nbformat": 4,
 "nbformat_minor": 4
}
